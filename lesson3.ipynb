{
  "nbformat": 4,
  "nbformat_minor": 0,
  "metadata": {
    "colab": {
      "provenance": [],
      "include_colab_link": true
    },
    "kernelspec": {
      "name": "python3",
      "display_name": "Python 3"
    },
    "language_info": {
      "name": "python"
    }
  },
  "cells": [
    {
      "cell_type": "markdown",
      "metadata": {
        "id": "view-in-github",
        "colab_type": "text"
      },
      "source": [
        "<a href=\"https://colab.research.google.com/github/suyashpatil344/DAA/blob/main/lesson3.ipynb\" target=\"_parent\"><img src=\"https://colab.research.google.com/assets/colab-badge.svg\" alt=\"Open In Colab\"/></a>"
      ]
    },
    {
      "cell_type": "markdown",
      "source": [
        "# 🧑‍🏫 Lesson 3 A : Candy Distribution – Greedy Algorithm\n",
        "**🎯 Learning Objectives**\n",
        "<br>By the end of this lesson, students will:\n",
        "\n",
        "    Understand the Greedy Strategy\n",
        "\n",
        "    Solve a real-world-style problem (distributing candies to children fairly)\n",
        "\n",
        "    Learn to write and run a greedy algorithm in Python\n",
        "\n",
        "    Understand why choosing the best option locally can solve problems globally\n",
        "\n",
        "🍭 Problem Statement (Simple Language)\n",
        "\n",
        "    There are some children standing in a line. Each child has a rating (like how well they behaved).\n",
        "    We need to give them candies. But:\n",
        "\n",
        "        Every child should get at least 1 candy\n",
        "\n",
        "        A child with higher rating than their neighbors should get more candies\n",
        "\n",
        "🧮 Goal: Give the minimum number of candies while following both rules."
      ],
      "metadata": {
        "id": "6XrECTII1E7U"
      }
    },
    {
      "cell_type": "markdown",
      "source": [
        "\n",
        "👧 Example:\n",
        "\n",
        "\n",
        "```\n",
        "ratings = [1, 0, 2]\n",
        "```\n",
        "\n",
        "\n",
        "\n",
        "✅ Solution: [2, 1, 2] → Total = 5 candies <br>\n",
        "Why? Child 0 > Child 1, and Child 2 > Child 1 → they get more candies."
      ],
      "metadata": {
        "id": "UQZxbhWO1624"
      }
    },
    {
      "cell_type": "code",
      "source": [
        "def candy(ratings):\n",
        "    n = len(ratings)\n",
        "    candies = [1] * n  # Step 1: Give everyone 1 candy\n",
        "\n",
        "    # Left to Right: compare with left neighbor\n",
        "    for i in range(1, n):\n",
        "        if ratings[i] > ratings[i - 1]:\n",
        "            candies[i] = candies[i - 1] + 1\n",
        "\n",
        "    # Right to Left: compare with right neighbor\n",
        "    for i in range(n - 2, -1, -1):\n",
        "        if ratings[i] > ratings[i + 1]:\n",
        "            candies[i] = max(candies[i], candies[i + 1] + 1)\n",
        "\n",
        "    return sum(candies)  # Total candies needed\n",
        "\n",
        "# Test\n",
        "ratings = [1, 0, 2]\n",
        "print(\"Minimum candies:\", candy(ratings))  # Output: 5\n"
      ],
      "metadata": {
        "id": "c2cSCTi32UhB"
      },
      "execution_count": null,
      "outputs": []
    },
    {
      "cell_type": "markdown",
      "source": [
        "**✨ Try More Inputs:**"
      ],
      "metadata": {
        "id": "G2X0psYd2am2"
      }
    },
    {
      "cell_type": "code",
      "source": [
        "print(candy([1, 2, 2]))   # Output: 4\n",
        "print(candy([1, 3, 2, 2, 1]))  # Output: 7"
      ],
      "metadata": {
        "id": "wkcHtV6i2hU-"
      },
      "execution_count": null,
      "outputs": []
    },
    {
      "cell_type": "markdown",
      "source": [
        "## **🔍 Step-by-Step Explanation**\n",
        "Step 1️⃣: Initial candies\n",
        "\n",
        "Give everyone 1 candy.\n",
        "```\n",
        "ratings = [1, 0, 2]\n",
        "candies = [1, 1, 1]\n",
        "```\n",
        "Step 2️⃣: Left → Right Pass\n",
        "\n",
        "Compare each child to the one before:\n",
        "\n",
        "    Is rating higher than the left neighbor? Give 1 more candy.\n",
        "\n",
        "Result:\n",
        "\n",
        "candies = [1, 1, 2]  # Because 2 > 0\n",
        "\n",
        "Step 3️⃣: Right → Left Pass\n",
        "\n",
        "Compare each child to the one after:\n",
        "\n",
        "    Is rating higher than the right neighbor? Give max(current, right + 1)\n",
        "\n",
        "Result:\n",
        "\n",
        "candies = [2, 1, 2]  # Because 1 > 0 → 2 candies\n",
        "\n",
        "Step 4️⃣: Sum the candies\n",
        "\n",
        "Total = 2 + 1 + 2 = 5\n"
      ],
      "metadata": {
        "id": "5HcvH0gT5STb"
      }
    },
    {
      "cell_type": "markdown",
      "source": [
        "# 🧑‍🏫 Lesson 3 B: Activity Selection Problem – Greedy Strategy\n",
        "**🎯 Learning Objectives**\n",
        "\n",
        "By the end of this lesson, students will:\n",
        "\n",
        "    Understand the greedy method\n",
        "\n",
        "    Learn to select maximum number of non-overlapping activities\n",
        "\n",
        "    Implement the solution using Python\n",
        "\n",
        "    Recognize how sorting and greedy choice work together\n",
        "\n",
        "🧠 Problem Statement (Simple Version)\n",
        "\n",
        "    You have a list of activities with start and end times.\n",
        "    You want to attend the maximum number of activities, but you can't attend overlapping ones.\n",
        "\n",
        "Example:"
      ],
      "metadata": {
        "id": "E-3oMeg625ah"
      }
    },
    {
      "cell_type": "code",
      "source": [
        "def activity_selection(start, finish):\n",
        "    n = len(start)\n",
        "    activities = sorted(zip(start, finish), key=lambda x: x[1])  # Sort by end time\n",
        "\n",
        "    selected = [activities[0]]\n",
        "    last_end = activities[0][1]\n",
        "\n",
        "    for i in range(1, n):\n",
        "        if activities[i][0] >= last_end:\n",
        "            selected.append(activities[i])\n",
        "            last_end = activities[i][1]\n",
        "\n",
        "    return selected\n",
        "\n",
        "# Example\n",
        "start  = [1, 3, 0, 5, 8, 5]\n",
        "finish = [2, 4, 6, 7, 9, 9]\n",
        "\n",
        "result = activity_selection(start, finish)\n",
        "print(\"Selected activities:\", result)\n"
      ],
      "metadata": {
        "id": "hWXDqSow3EUX"
      },
      "execution_count": null,
      "outputs": []
    },
    {
      "cell_type": "markdown",
      "source": [
        "\n",
        "\n",
        "```\n",
        "Selected activities: [(1, 2), (3, 4), (5, 7), (8, 9)]\n",
        "\n",
        "```\n",
        "\n"
      ],
      "metadata": {
        "id": "aFqx5m5x3P4k"
      }
    },
    {
      "cell_type": "markdown",
      "source": [
        "**✍️ Student Task**\n",
        "\n",
        "Try different inputs:"
      ],
      "metadata": {
        "id": "ty8KT3rn3Whm"
      }
    },
    {
      "cell_type": "code",
      "source": [
        "start = [0, 2, 4, 6, 8]\n",
        "finish = [1, 3, 5, 7, 9]"
      ],
      "metadata": {
        "id": "742fS7503eAv"
      },
      "execution_count": null,
      "outputs": []
    },
    {
      "cell_type": "markdown",
      "source": [
        "## **🔍 Step-by-Step Explanation**\n",
        "\n",
        "**1️⃣ n = len(start)**\n",
        "\n",
        "\n",
        "Counts how many activities there are.\n",
        "\n",
        "Let’s say:\n",
        "```\n",
        "start = [1, 3, 0, 5, 8, 5]\n",
        "n = 6 (6 activities)\n",
        "```\n",
        "\n",
        "2️⃣ activities = sorted(zip(start, finish), key=lambda x: x[1])\n",
        "\n",
        "    We combine the start and finish times into pairs using zip:\n",
        "\n",
        "    [(1, 2), (3, 4), (0, 6), (5, 7), (8, 9), (5, 9)]\n",
        "\n",
        "    Then, we sort these pairs by ending time (second value of each pair).\n",
        "\n",
        "    This helps us choose activities that finish earliest, so we can fit more later.\n",
        "\n",
        "📌 Greedy strategy: Always take the earliest-ending activity that fits.\n",
        "3️⃣ selected = [activities[0]]\n",
        "\n",
        "    We always select the first activity after sorting — it ends earliest.\n",
        "\n",
        "4️⃣ last_end = activities[0][1]\n",
        "\n",
        "    We store the end time of the last selected activity.\n",
        "\n",
        "    So next time, we know when the last one finished.\n",
        "\n",
        "5️⃣ for i in range(1, n):\n",
        "\n",
        "    Now we go through the rest of the activities (after the first one).\n",
        "\n",
        "6️⃣ if activities[i][0] >= last_end:\n",
        "\n",
        "    Check: Does the next activity start after or at the same time the last one ended?\n",
        "\n",
        "    If yes → No overlap → ✅ we can add it.\n",
        "\n",
        "7️⃣ selected.append(activities[i])\n",
        "\n",
        "    We select this activity and add it to our answer list.\n",
        "\n",
        "8️⃣ last_end = activities[i][1]\n",
        "\n",
        "    We update the ending time so we can check the next one properly.\n",
        "\n",
        "9️⃣ return selected\n",
        "\n",
        "    After the loop ends, we return the final list of selected activities.\n",
        "\n",
        "🧪 Example:\n",
        "\n",
        "start = [1, 3, 0, 5, 8, 5]\n",
        "finish = [2, 4, 6, 7, 9, 9]\n",
        "\n",
        "After sorting:\n",
        "\n",
        "[(1, 2), (3, 4), (0, 6), (5, 7), (5, 9), (8, 9)]\n",
        "\n",
        "Selected:\n",
        "\n",
        "    (1, 2) ✅\n",
        "\n",
        "    (3, 4) ✅\n",
        "\n",
        "    (5, 7) ✅\n",
        "\n",
        "    (8, 9) ✅\n",
        "    ✅ Total: 4 activities"
      ],
      "metadata": {
        "id": "u9Lsd3lZ3loX"
      }
    }
  ]
}